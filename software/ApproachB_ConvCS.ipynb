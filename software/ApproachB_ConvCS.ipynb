{
  "nbformat": 4,
  "nbformat_minor": 0,
  "metadata": {
    "colab": {
      "name": "Submit_M202_Final (6).ipynb",
      "provenance": [],
      "collapsed_sections": []
    },
    "kernelspec": {
      "name": "python3",
      "display_name": "Python 3"
    }
  },
  "cells": [
    {
      "cell_type": "code",
      "metadata": {
        "colab": {
          "base_uri": "https://localhost:8080/"
        },
        "id": "AEuOKatx4bkr",
        "outputId": "82fb61db-9d67-498e-d8d4-ef3832e89709"
      },
      "source": [
        "pip install pytorch-msssim"
      ],
      "execution_count": 1,
      "outputs": [
        {
          "output_type": "stream",
          "name": "stdout",
          "text": [
            "Collecting pytorch-msssim\n",
            "  Downloading pytorch_msssim-0.2.1-py3-none-any.whl (7.2 kB)\n",
            "Requirement already satisfied: torch in /usr/local/lib/python3.7/dist-packages (from pytorch-msssim) (1.10.0+cu111)\n",
            "Requirement already satisfied: typing-extensions in /usr/local/lib/python3.7/dist-packages (from torch->pytorch-msssim) (3.10.0.2)\n",
            "Installing collected packages: pytorch-msssim\n",
            "Successfully installed pytorch-msssim-0.2.1\n"
          ]
        }
      ]
    },
    {
      "cell_type": "code",
      "metadata": {
        "id": "cEXhg-S4uHRZ"
      },
      "source": [
        "from pytorch_msssim import ssim, ms_ssim, SSIM, MS_SSIM\n",
        "import os\n",
        "#import cv2 as cv2\n",
        "import numpy as np\n",
        "import matplotlib.pyplot as plt\n",
        "import torch\n",
        "import torch.nn as nn\n",
        "import torch.nn.functional as Functional\n",
        "from torchvision.transforms import Compose, RandomCrop, ToTensor, ToPILImage, CenterCrop, Resize\n",
        "from torchvision import datasets\n",
        "from torch.utils.data import DataLoader, Dataset\n",
        "from PIL import Image\n",
        "import shutil\n",
        "from torchvision.utils import save_image"
      ],
      "execution_count": 2,
      "outputs": []
    },
    {
      "cell_type": "code",
      "metadata": {
        "id": "V9T15Fb1qi47"
      },
      "source": [
        "testfolder = '/content/test'\n",
        "Dir  = '/content/ImageNet'\n",
        "Dir2  = '/content/ImageNet2'\n",
        "DirImages='/content/ImageNet/ILSVRC/Data/DET'\n",
        "DirtestImages='/content/ImageNet2/ILSVRC/Data/DET'\n",
        "Dirtestimages2 = '/content/Testimages'\n",
        "# modelsavepath = os.path.join('/content/','modelParameters/') #create\n",
        "# modelsavepath15 = os.path.join('/content/','modelParameters15/') \n",
        "# modelsavepath5 = os.path.join('/content/','modelParameters5/') \n",
        "modelpath = os.path.join('/content/','modelParameters25.0/','20.pth') # specify the path you placed the model weights\n",
        "Dirtestimages2 = '/content/Testimages'"
      ],
      "execution_count": 3,
      "outputs": []
    },
    {
      "cell_type": "code",
      "metadata": {
        "id": "sB4GekMJly9_"
      },
      "source": [
        "if os.path.exists(Dir):\n",
        "  print(\"Path exists, not creating folders\")\n",
        "else:\n",
        "    os.mkdir(Dirtestimages2)\n",
        "    os.mkdir(os.path.join(Dirtestimages2,'Test'))\n",
        "    os.mkdir(Dir)\n",
        "    os.chdir(Dir)\n",
        "    !wget https://image-net.org/data/ILSVRC/2016/ILSVRC2016_DET_test_new.tar.gz\n",
        "    os.chdir(Dir)\n",
        "    !gunzip ILSVRC2016_DET_test_new.tar.gz\n",
        "    !tar -xvf ILSVRC2016_DET_test_new.tar\n",
        "    os.mkdir(Dir2)\n",
        "    os.chdir(Dir2)\n",
        "    !wget https://image-net.org/data/ILSVRC/2017/ILSVRC2017_DET_test_new.tar.gz\n",
        "    os.chdir(Dir2)\n",
        "    !gunzip ILSVRC2017_DET_test_new.tar.gz\n",
        "    !tar -xvf ILSVRC2017_DET_test_new.tar\n",
        "    os.chdir(DirImages)"
      ],
      "execution_count": null,
      "outputs": []
    },
    {
      "cell_type": "code",
      "source": [
        "temp2 = os.path.join(Dir2,'ILSVRC/Data/DET/test')\n",
        "temp1 = os.path.join(Dir,'ILSVRC/Data/DET/test')\n",
        "j=0\n",
        "for i in os.listdir(temp2):\n",
        "  j=j+1\n",
        "  source = os.path.join(temp2,i)\n",
        "  destination = os.path.join(temp1,i)\n",
        "  shutil.move(source, destination)\n",
        "  if j==4000:\n",
        "    break\n",
        "  "
      ],
      "metadata": {
        "id": "hX_YP_deq2pa"
      },
      "execution_count": 5,
      "outputs": []
    },
    {
      "cell_type": "code",
      "metadata": {
        "id": "pRyohnp6f0aX"
      },
      "source": [
        "transform1 =Compose([\n",
        "    Resize(size=(64,64)),\n",
        "    ToTensor()\n",
        "])"
      ],
      "execution_count": 6,
      "outputs": []
    },
    {
      "cell_type": "code",
      "source": [
        "class ImageDataset(Dataset):\n",
        "  def __init__(self,dataset1,maskpercentage):\n",
        "    k = round(64*64*maskpercentage)\n",
        "    size = (len(dataset1),k*3)\n",
        "    size1 = (len(dataset1),k)\n",
        "    mask= torch.zeros(size=(64*64,))\n",
        "    self.image = torch.zeros(size = size)\n",
        "    self.masks = torch.zeros(size =size1)\n",
        "    self.no = torch.zeros(size = (len(dataset1),)) \n",
        "    for i in range(len(dataset1)):\n",
        "     ri = np.sort(np.random.choice(64*64, k, replace=False))\n",
        "    #  print(ri)\n",
        "     x = torch.flatten(dataset1[i][0])\n",
        "     x= torch.stack((x[ri],x[64*64 + ri],x[2*64*64 + ri]))\n",
        "     mask[ri]=1\n",
        "     self.image[i] = torch.flatten(x)\n",
        "     self.masks[i]=torch.from_numpy(ri)\n",
        "     self.no[i] =dataset1[i][1]\n",
        "     \n",
        "  def __len__(self):\n",
        "        return len(self.no)\n",
        "  def __getitem__(self, idx):\n",
        "    return self.image[idx].numpy(),self.masks[idx].numpy(), self.no[idx].numpy()\n",
        "\n",
        "\n"
      ],
      "metadata": {
        "id": "X2yrMAkAuEr8"
      },
      "execution_count": 7,
      "outputs": []
    },
    {
      "cell_type": "code",
      "source": [
        "class CS(Dataset):\n",
        "  def __init__(self,sampled_image,mask,dataset1):\n",
        "    # a = torch.unsqueeze(dataset1[0][0],0)\n",
        "    # print(a.shape)\n",
        "    # for i in range(1,len(dataset1)):\n",
        "      \n",
        "    #   b=torch.unsqueeze(dataset1[i][0],0)\n",
        "    #   print(i)\n",
        "    #   a = torch.cat((a,b),0)\n",
        "    # self.real_image = a \n",
        "    self.inputimage = torch.cat((sampled_image,mask),dim=1)\n",
        "    self.no = torch.tensor(range(0,len(dataset1)))\n",
        "    \n",
        "  def __len__(self):\n",
        "      return self.inputimage.shape[0]\n",
        "  \n",
        "  def __getitem__(self, idx):\n",
        "    return self.inputimage[idx],self.no[idx]\n"
      ],
      "metadata": {
        "id": "HP8vUwRBuPkJ"
      },
      "execution_count": 8,
      "outputs": []
    },
    {
      "cell_type": "code",
      "metadata": {
        "id": "ThkdWtRwM0OE"
      },
      "source": [
        "class AE(nn.Module):\n",
        "  def __init__(self):\n",
        "    super(AE,self).__init__()\n",
        "    in_c = 3\n",
        "\n",
        "\n",
        "    self.convup = nn.Sequential( nn.Conv2d(4,8 , kernel_size = 3, stride =1, padding = 'same', bias = False),\n",
        "\t\t\tnn.BatchNorm2d(8),\n",
        "\t\t\tnn.LeakyReLU(inplace = True),\n",
        "      nn.Conv2d(8,9, kernel_size = 3, stride =1, padding = 'same', bias = False),\n",
        "\t\t\tnn.BatchNorm2d(9),\n",
        "\t\t\tnn.LeakyReLU(inplace = True),\n",
        "     nn.Conv2d(9,in_c , kernel_size = 3, stride =1, padding = 'same', bias = False),\n",
        "\t\t\tnn.BatchNorm2d(in_c),\n",
        "\t\t\tnn.LeakyReLU(inplace = True),\n",
        "      nn.Conv2d(in_c,in_c , kernel_size = 3, stride =1, padding = 'same', bias = False),\n",
        "\t\t\tnn.BatchNorm2d(in_c),\n",
        "\t\t\tnn.LeakyReLU(inplace = True)\n",
        "    )\n",
        "    self.convup1 = nn.Sequential( nn.Conv2d(6,in_c , kernel_size = 3, stride =1, padding = 'same', bias = False),\n",
        "\t\t\tnn.BatchNorm2d(in_c),\n",
        "\t\t\tnn.ReLU(inplace = True),\n",
        "      nn.Conv2d(in_c,in_c , kernel_size = 3, stride =1, padding = 'same', bias = False),\n",
        "\t\t\tnn.BatchNorm2d(in_c),\n",
        "\t\t\tnn.LeakyReLU(inplace = True))\n",
        "\n",
        "\n",
        "  def forward(self,image):\n",
        "   #encoder\n",
        "   B = image.shape[0]\n",
        "   sampled=image[:,0:3]\n",
        "   x4 = self.convup(image)\n",
        "\n",
        "\n",
        "   return x4\n",
        "   \n",
        "\n",
        "  "
      ],
      "execution_count": 9,
      "outputs": []
    },
    {
      "cell_type": "code",
      "metadata": {
        "id": "RAR7IPIOODrP"
      },
      "source": [
        "def trainmodel(B,dataset1,dataset2,num_epochs,modelsave):\n",
        "  learning_rate=1e-2\n",
        "  ssimLR = 1e-1\n",
        "  msLR = 0\n",
        "  if torch.cuda.is_available():\n",
        "   device = torch.device('cuda:0')\n",
        "\n",
        "  else:\n",
        "    device = torch.device('cpu')\n",
        "\n",
        "  device2 = torch.device('cpu')\n",
        "\n",
        "  dataloader1 = DataLoader(dataset = dataset1, batch_size= B,num_workers=1,pin_memory=True)\n",
        "  dataloader2 = DataLoader(dataset = dataset2, batch_size= B,num_workers=1,pin_memory=True)\n",
        "  \n",
        "  total_samples = len(dataset1)\n",
        "  model= AE()\n",
        "  Mseloss = nn.MSELoss() #loss  function\n",
        "  model.to(device)\n",
        "  optimizer = torch.optim.Adam(model.parameters(),lr=learning_rate)\n",
        " # torch.backends.cudnn.deterministic= True\n",
        "\n",
        "  for epochs in range(num_epochs):\n",
        "    epoch_loss =0;\n",
        "    Rssim = 0\n",
        "    Gssim = 0\n",
        "    Bssim = 0\n",
        "    MSE_loss=0\n",
        "    training_batch1 = iter(dataloader1)\n",
        "    training_batch2= iter(dataloader2)\n",
        "    for i in range(len(dataloader1)):\n",
        "      OrgImages,clas = next(training_batch1)\n",
        "      images,clas= next(training_batch2)\n",
        "      images = images.to(device,dtype =torch.float32)\n",
        "      OrgImages = OrgImages.to(device,dtype=torch.float32)\n",
        "\n",
        "      Reconstructed=model(images)\n",
        "      Rssim = Rssim+ssim(Reconstructed[:,0:1],images[:,0:1])\n",
        "      Gssim = Rssim+ssim(Reconstructed[:,1:2],images[:,1:2])\n",
        "      Bssim = Rssim+ssim(Reconstructed[:,2:3],images[:,2:3])\n",
        "\n",
        "      L2_loss =ssimLR* (1 - ssim( Reconstructed, OrgImages, data_range=1, size_average=True))+msLR*Mseloss( Reconstructed, OrgImages)\n",
        "      MSE_loss =MSE_loss+ Mseloss( Reconstructed, OrgImages)\n",
        "      batch_loss = L2_loss\n",
        "      epoch_loss = epoch_loss + batch_loss\n",
        "      model.train()\n",
        "      batch_loss = batch_loss.to(dtype = torch.float32)\n",
        "      batch_loss.backward()\n",
        "      optimizer.step()\n",
        "      optimizer.zero_grad()\n",
        "    print(\"epochloss\", epoch_loss)\n",
        "    # print(\"Red channel ssim \",Rssim/len(dataset1))\n",
        "    # print(\"Green channel ssim \",Gssim/len(dataset1))\n",
        "    # print(\"Blue channel ssim \",Bssim/len(dataset1))\n",
        "    print(\"MSE loss: \" ,MSE_loss)\n",
        "    if (epochs+1) % 2 ==0:\n",
        "     path1 = os.path.join(modelsave, str(epochs+1)+'.pth')\n",
        "     print(path1)\n",
        "     torch.save(model.state_dict(), path1)\n",
        "\n",
        "\n",
        "      \n",
        "\n",
        "\n"
      ],
      "execution_count": 10,
      "outputs": []
    },
    {
      "cell_type": "code",
      "metadata": {
        "id": "uhE3ENAdwSe6"
      },
      "source": [
        "def trypredict(images,path):\n",
        "  device2 = torch.device('cpu')\n",
        "  #run after training\n",
        "  loaded_model = AE()\n",
        "  loaded_model.load_state_dict(torch.load(path,map_location = device2))\n",
        "  loaded_model.eval();\n",
        "  images = images.to(device2,dtype = torch.float32)\n",
        " # OrgImages=OrgImages.to(device2,dtype = torch.float32)\n",
        "  \n",
        "  Reconstructed=loaded_model(images)\n",
        "  Reconstructed = Reconstructed.detach()\n",
        "  return Reconstructed"
      ],
      "execution_count": 11,
      "outputs": []
    },
    {
      "cell_type": "code",
      "metadata": {
        "id": "svJ7ZQ9t1aMo"
      },
      "source": [
        "def plot(Reconstructed,OrgImages,Sentimages):\n",
        "    fig = plt.figure(figsize=(10, 10))\n",
        "    for i in range(OrgImages.shape[0]):\n",
        "        im = torch.permute(OrgImages[i],(1,2,0))\n",
        "        RC= torch.permute(Reconstructed[i],(1,2,0))\n",
        "        # sent = Sentimages[i][0:2]\n",
        "        # masks = Sentimages[i][2:3]\n",
        "        sent = torch.permute(Sentimages[i][0:3],(1,2,0))\n",
        "        #masks = torch.permute(Sentimages[i][3],(1,2,0))\n",
        "        masks = Sentimages[i][3]\n",
        "\n",
        "        fig.add_subplot(i+1,4,1)\n",
        "        plt.imshow(sent)\n",
        "        fig.add_subplot(i+1,4,2)\n",
        "        plt.imshow(masks,cmap='gray')\n",
        "        \n",
        "        fig.add_subplot(i+1,4,3)\n",
        "        plt.imshow(RC)\n",
        "        fig.add_subplot(i+1,4,4)\n",
        "        plt.imshow(im)\n",
        "        plt.show()"
      ],
      "execution_count": 12,
      "outputs": []
    },
    {
      "cell_type": "code",
      "metadata": {
        "id": "6zAgIT6hPkBj"
      },
      "source": [
        "dataset1 = datasets.ImageFolder(DirImages, transform=transform1)"
      ],
      "execution_count": 13,
      "outputs": []
    },
    {
      "cell_type": "markdown",
      "source": [
        "## Run all the above until here for testing\n"
      ],
      "metadata": {
        "id": "v9MVQ_eIkzTV"
      }
    },
    {
      "cell_type": "code",
      "source": [
        "Imagepercentagelist = [0.25,0.15,0.05]\n",
        "for per in Imagepercentagelist:\n",
        "\n",
        "  Imagepercentage = per\n",
        "  d = ImageDataset(dataset1,Imagepercentage)\n",
        "  im = np.zeros((len(d),3,64*64))\n",
        "  mask = np.zeros((len(d),1,64*64))\n",
        "\n",
        "  k = round(64*64*Imagepercentage)\n",
        "  for ind in range(0,len(d)):\n",
        "    # print(ind)\n",
        "    j=0\n",
        "    for i in d[ind][1]:\n",
        "      i = int(i)\n",
        "      im[ind,0,i] = d[ind][0][j]\n",
        "      im[ind,1,i] = d[ind][0][k+j]\n",
        "      im[ind,2,i] = d[ind][0][2*k+j]\n",
        "      mask[ind, 0,i] = 1\n",
        "      j=j+1\n",
        "  im= np.reshape(im,(len(d),3,64,64))\n",
        "  mask= np.reshape(mask,(len(d),1,64,64))\n",
        "  mask= torch.from_numpy(mask)\n",
        "  sampled_image = torch.from_numpy(im)\n",
        "  ds = CS(sampled_image,mask,dataset1)\n",
        "  modelpath = os.path.join('/content', 'modelParameters'+str(Imagepercentage*100))\n",
        "  if os.path.exists(modelpath):\n",
        "    shutil.rmtree(modelpath)\n",
        "  os.mkdir(modelpath)\n",
        "  trainmodel(45,dataset1,ds,40,modelpath )\n"
      ],
      "metadata": {
        "id": "GRUDnFB1luOr"
      },
      "execution_count": null,
      "outputs": []
    },
    {
      "cell_type": "code",
      "source": [
        "import PIL"
      ],
      "metadata": {
        "id": "Pfuqfpq5FxW8"
      },
      "execution_count": 83,
      "outputs": []
    },
    {
      "cell_type": "code",
      "source": [
        "Imagepercentagelist = [0.25,0.15,0.05]\n",
        "testpercentagelist = [0.05,0.10,0.15,0.20,0.25,0.40]\n",
        "ssimlist= []\n",
        "for per in Imagepercentagelist:\n",
        "  modelpath = os.path.join('/content', 'modelParameters'+str(per*100),'20.pth')\n",
        "  metriclist=[]\n",
        "  for testper in testpercentagelist:\n",
        "    testdataset = datasets.ImageFolder(DirtestImages, transform=transform1)\n",
        "    test1 = ImageDataset(testdataset,testper)\n",
        "    im1 = np.zeros((len(test1),3,64*64))\n",
        "    mask1 = np.zeros((len(test1),1,64*64))\n",
        "    k = round(64*64*testper)\n",
        "\n",
        "    for ind in range(0,len(test1)):\n",
        "       j=0\n",
        "       for i in test1[ind][1]:\n",
        "          i = int(i)\n",
        "          im1[ind,0,i] = test1[ind][0][j]\n",
        "          im1[ind,1,i] = test1[ind][0][k+j]\n",
        "          im1[ind,2,i] = test1[ind][0][2*k+j]\n",
        "          mask1[ind, 0,i] = 1\n",
        "          j=j+1\n",
        "    im1= np.reshape(im1,(len(test1),3,64,64))\n",
        "    mask1= np.reshape(mask1,(len(test1),1,64,64))\n",
        "    mask1= torch.from_numpy(mask1)\n",
        "    sampled_image1 = torch.from_numpy(im1)\n",
        "    ds1 = CS(sampled_image1,mask1,testdataset)\n",
        "\n",
        "    ssimMetric = 0\n",
        "    for i in range(len(testdataset)):\n",
        "      OrgTestImages,clas = testdataset[i]\n",
        "      test_images,clas =ds1[i]\n",
        "      OrgTestImages = torch.unsqueeze(OrgTestImages,0)\n",
        "      test_images = torch.unsqueeze(test_images,0)\n",
        "      Reconstructed=trypredict(test_images,modelpath)\n",
        "      ssimMetric = ssimMetric + ssim(Reconstructed,OrgTestImages)\n",
        "    ssimMetric = ssimMetric/len(testdataset)\n",
        "    print('SSIM Metric in Testdataset is :',ssimMetric )\n",
        "    metriclist.append(ssimMetric)\n",
        "  ssimlist.append(metriclist) \n",
        "\n"
      ],
      "metadata": {
        "id": "3caeMj4bp-M7",
        "colab": {
          "base_uri": "https://localhost:8080/"
        },
        "outputId": "2980d64c-1118-4a7f-858a-02cf3f6e4be2"
      },
      "execution_count": 36,
      "outputs": [
        {
          "output_type": "stream",
          "name": "stdout",
          "text": [
            "SSIM Metric in Testdataset is : tensor(0.9974)\n",
            "SSIM Metric in Testdataset is : tensor(0.9990)\n",
            "SSIM Metric in Testdataset is : tensor(0.9994)\n",
            "SSIM Metric in Testdataset is : tensor(0.9995)\n",
            "SSIM Metric in Testdataset is : tensor(0.9996)\n",
            "SSIM Metric in Testdataset is : tensor(0.9997)\n",
            "SSIM Metric in Testdataset is : tensor(0.9976)\n",
            "SSIM Metric in Testdataset is : tensor(0.9985)\n",
            "SSIM Metric in Testdataset is : tensor(0.9987)\n",
            "SSIM Metric in Testdataset is : tensor(0.9988)\n",
            "SSIM Metric in Testdataset is : tensor(0.9988)\n",
            "SSIM Metric in Testdataset is : tensor(0.9987)\n",
            "SSIM Metric in Testdataset is : tensor(0.9986)\n",
            "SSIM Metric in Testdataset is : tensor(0.9992)\n",
            "SSIM Metric in Testdataset is : tensor(0.9993)\n",
            "SSIM Metric in Testdataset is : tensor(0.9993)\n",
            "SSIM Metric in Testdataset is : tensor(0.9993)\n",
            "SSIM Metric in Testdataset is : tensor(0.9989)\n"
          ]
        }
      ]
    },
    {
      "cell_type": "code",
      "source": [
        "#plot\n",
        "plt.figure()\n",
        "for i in range(0,len(Imagepercentagelist)):\n",
        "\n",
        "  t =[]\n",
        "  for s in testpercentagelist:\n",
        "    t.append(s*100)\n",
        "  l = 'Trained at '+ str(Imagepercentagelist[i]*100)\n",
        "  plt.plot(t,ssimlist[i],label =l,marker='o' )\n",
        "  plt.title('Model - SSIM vs Image Percentage')\n",
        "  plt.xlabel('ImagePercentage')\n",
        "  plt.ylabel('SSIM')\n",
        "  plt.legend()\n",
        "#im.show()"
      ],
      "metadata": {
        "id": "O85nBMdcvsH4"
      },
      "execution_count": null,
      "outputs": []
    },
    {
      "cell_type": "code",
      "metadata": {
        "colab": {
          "base_uri": "https://localhost:8080/"
        },
        "id": "gZ7jYPvU4Ecd",
        "outputId": "76f68e0b-72e7-4a77-e934-e5945e5de099"
      },
      "source": [
        "transform2 =Compose([\n",
        "    Resize(size=(32,32),interpolation=PIL.Image.NEAREST),\n",
        "    Resize(size=(64,64),interpolation=PIL.Image.NEAREST),\n",
        "    ToTensor()\n",
        "])"
      ],
      "execution_count": 84,
      "outputs": [
        {
          "output_type": "stream",
          "name": "stderr",
          "text": [
            "/usr/local/lib/python3.7/dist-packages/torchvision/transforms/transforms.py:288: UserWarning: Argument interpolation should be of type InterpolationMode instead of int. Please, use InterpolationMode enum.\n",
            "  \"Argument interpolation should be of type InterpolationMode instead of int. \"\n"
          ]
        }
      ]
    },
    {
      "cell_type": "code",
      "source": [
        "transform3 =Compose([\n",
        "    Resize(size=(24,24),interpolation=PIL.Image.NEAREST),\n",
        "    Resize(size=(64,64),interpolation=PIL.Image.NEAREST),\n",
        "    ToTensor()\n",
        "])"
      ],
      "metadata": {
        "colab": {
          "base_uri": "https://localhost:8080/"
        },
        "id": "j_DeYvIOLzzV",
        "outputId": "4d296105-a1e9-484b-ab2d-b3ff8e167114"
      },
      "execution_count": 86,
      "outputs": [
        {
          "output_type": "stream",
          "name": "stderr",
          "text": [
            "/usr/local/lib/python3.7/dist-packages/torchvision/transforms/transforms.py:288: UserWarning: Argument interpolation should be of type InterpolationMode instead of int. Please, use InterpolationMode enum.\n",
            "  \"Argument interpolation should be of type InterpolationMode instead of int. \"\n"
          ]
        }
      ]
    },
    {
      "cell_type": "code",
      "source": [
        "transform4 =Compose([\n",
        "    Resize(size=(14,14),interpolation=PIL.Image.NEAREST),\n",
        "    Resize(size=(64,64),interpolation=PIL.Image.NEAREST),\n",
        "    ToTensor()\n",
        "])"
      ],
      "metadata": {
        "colab": {
          "base_uri": "https://localhost:8080/"
        },
        "id": "iX6lC9GBL0JU",
        "outputId": "1c6e9b7f-aada-48c4-86eb-3756bb7714b9"
      },
      "execution_count": 87,
      "outputs": [
        {
          "output_type": "stream",
          "name": "stderr",
          "text": [
            "/usr/local/lib/python3.7/dist-packages/torchvision/transforms/transforms.py:288: UserWarning: Argument interpolation should be of type InterpolationMode instead of int. Please, use InterpolationMode enum.\n",
            "  \"Argument interpolation should be of type InterpolationMode instead of int. \"\n"
          ]
        }
      ]
    },
    {
      "cell_type": "code",
      "source": [
        "org= datasets.ImageFolder(DirtestImages, transform=transform1)"
      ],
      "metadata": {
        "id": "ku-E02hD5U13"
      },
      "execution_count": 79,
      "outputs": []
    },
    {
      "cell_type": "code",
      "source": [
        "downsampled1= datasets.ImageFolder(DirtestImages, transform=transform2)\n",
        "L=0\n",
        "for i in range(len(org)):\n",
        "    L= L+ssim(torch.unsqueeze(org[i][0],0),torch.unsqueeze(downsampled1[i][0],0))\n",
        "print(\"SSIM of upscaled image with 25% of orginal size is : \",L/1500)"
      ],
      "metadata": {
        "colab": {
          "base_uri": "https://localhost:8080/"
        },
        "id": "DFnW7-lPBF6A",
        "outputId": "9c7f36b5-ee3d-4023-ac67-079d4dd172e8"
      },
      "execution_count": 85,
      "outputs": [
        {
          "output_type": "stream",
          "name": "stdout",
          "text": [
            "SSIM of upscaled image with 25% of orginal size is :  tensor(0.9995)\n"
          ]
        }
      ]
    },
    {
      "cell_type": "code",
      "source": [
        "downsampled1= datasets.ImageFolder(DirtestImages, transform=transform3)\n",
        "L=0\n",
        "for i in range(len(org)):\n",
        "    L= L+ssim(torch.unsqueeze(org[i][0],0),torch.unsqueeze(downsampled1[i][0],0))\n",
        "print(\"SSIM of upscaled image with 15% of orginal size is : \",L/1500)"
      ],
      "metadata": {
        "colab": {
          "base_uri": "https://localhost:8080/"
        },
        "id": "NITU8mrvLxID",
        "outputId": "6d4dc9c0-9a34-4da2-8aa7-dfbc51876be3"
      },
      "execution_count": 88,
      "outputs": [
        {
          "output_type": "stream",
          "name": "stdout",
          "text": [
            "SSIM of upscaled image with 15% of orginal size is :  tensor(0.9992)\n"
          ]
        }
      ]
    },
    {
      "cell_type": "code",
      "source": [
        "downsampled1= datasets.ImageFolder(DirtestImages, transform=transform4)\n",
        "L=0\n",
        "for i in range(len(org)):\n",
        "    L= L+ssim(torch.unsqueeze(org[i][0],0),torch.unsqueeze(downsampled1[i][0],0))\n",
        "print(\"SSIM of upscaled image with 5% of orginal size \",L/1500)"
      ],
      "metadata": {
        "colab": {
          "base_uri": "https://localhost:8080/"
        },
        "id": "ym45lxlwLxfh",
        "outputId": "cd1340ba-4a8b-41af-da57-01692cf52f94"
      },
      "execution_count": 89,
      "outputs": [
        {
          "output_type": "stream",
          "name": "stdout",
          "text": [
            "SSIM of upscaled image with 5% of orginal size  tensor(0.9984)\n"
          ]
        }
      ]
    },
    {
      "cell_type": "markdown",
      "source": [
        "## Test your own Images\n"
      ],
      "metadata": {
        "id": "Q45D608o8cb_"
      }
    },
    {
      "cell_type": "code",
      "source": [
        "print(\"please upload images in \",Dirtestimages2)\n"
      ],
      "metadata": {
        "id": "AlncU7qzvmu0"
      },
      "execution_count": null,
      "outputs": []
    },
    {
      "cell_type": "code",
      "source": [
        "if os.path.exists('/content/modelParameters25.0'):\n",
        "  print(\"Path exists, not creating folders\")\n",
        "else:\n",
        "  os.mkdir('/content/modelParameters25.0')\n",
        "  print(\"Upload Model path file for 25\")\n",
        "\n",
        "if os.path.exists('/content/modelParameters15.0'):\n",
        "  print(\"Path exists, not creating folders\")\n",
        "else:\n",
        "  os.mkdir('/content/modelParameters15.0')\n",
        "  print(\"Upload Model path file for 15\")\n",
        "\n",
        "if os.path.exists('/content/modelParameters5.0'):\n",
        "  print(\"Path exists, not creating folders\")\n",
        "else:\n",
        "  os.mkdir('/content/modelParameters5.0')\n",
        "  print(\"Upload Model path file for 5\")"
      ],
      "metadata": {
        "colab": {
          "base_uri": "https://localhost:8080/"
        },
        "id": "zXNmVcS8wB6C",
        "outputId": "5117fab2-467f-4c43-c5f7-cad6f8702a3d"
      },
      "execution_count": 19,
      "outputs": [
        {
          "output_type": "stream",
          "name": "stdout",
          "text": [
            "Path exists, not creating folders\n",
            "Path exists, not creating folders\n",
            "Path exists, not creating folders\n"
          ]
        }
      ]
    },
    {
      "cell_type": "code",
      "source": [
        "os.chdir('/content/')\n",
        "# Clone Real-ESRGAN and enter the Real-ESRGAN\n",
        "!git clone https://github.com/xinntao/Real-ESRGAN.git\n",
        "%cd Real-ESRGAN\n",
        "# Set up the environment\n",
        "!pip install basicsr\n",
        "!pip install facexlib\n",
        "!pip install gfpgan\n",
        "!pip install -r requirements.txt\n",
        "!python setup.py develop\n",
        "# Download the pre-trained model\n",
        "!wget https://github.com/xinntao/Real-ESRGAN/releases/download/v0.1.0/RealESRGAN_x4plus.pth -P experiments/pretrained_models\n"
      ],
      "metadata": {
        "id": "b7r3Q_NFoAls"
      },
      "execution_count": null,
      "outputs": []
    },
    {
      "cell_type": "code",
      "source": [
        "imagesavepath = '/content/Real-ESRGAN/inputs'\n",
        "shutil.rmtree(imagesavepath)\n",
        "os.mkdir(imagesavepath)\n",
        "if os.path.exists('/content/Real-ESRGAN/results'):\n",
        "    shutil.rmtree('/content/Real-ESRGAN/results')\n",
        "os.mkdir('/content/Real-ESRGAN/results')"
      ],
      "metadata": {
        "id": "dkpiQoXdoXvT"
      },
      "execution_count": 18,
      "outputs": []
    },
    {
      "cell_type": "code",
      "source": [
        "if os.path.exists(Dirtestimages2+'/.ipynb_checkpoints'):\n",
        "  shutil.rmtree(Dirtestimages2+'/.ipynb_checkpoints')\n"
      ],
      "metadata": {
        "id": "NW0RIDmTuiTQ"
      },
      "execution_count": 25,
      "outputs": []
    },
    {
      "cell_type": "code",
      "source": [
        "imagepercentage = 0.25\n",
        "testdataset2 = datasets.ImageFolder(Dirtestimages2, transform=transform1)\n",
        "test2 = ImageDataset(testdataset2,imagepercentage)\n",
        "im2 = np.zeros((len(test2),3,64*64))\n",
        "mask2 = np.zeros((len(test2),1,64*64))"
      ],
      "metadata": {
        "id": "jli7i0qa2WRZ"
      },
      "execution_count": 26,
      "outputs": []
    },
    {
      "cell_type": "code",
      "source": [
        "k=round(64*64*imagepercentage)\n",
        "for ind in range(0,len(test2)):\n",
        "  # print(ind)\n",
        "  j=0\n",
        "  for i in test2[ind][1]:\n",
        "    i = int(i)\n",
        "    im2[ind,0,i] = test2[ind][0][j]\n",
        "    im2[ind,1,i] = test2[ind][0][k+j]\n",
        "    im2[ind,2,i] = test2[ind][0][2*k+j]\n",
        "    mask2[ind, 0,i] = 1\n",
        "    j=j+1\n",
        "im2= np.reshape(im2,(len(test2),3,64,64))\n",
        "mask2= np.reshape(mask2,(len(test2),1,64,64))\n",
        "mask2= torch.from_numpy(mask2)\n",
        "sampled_image2 = torch.from_numpy(im2)\n",
        "ds2 = CS(sampled_image2,mask2,testdataset2)\n"
      ],
      "metadata": {
        "id": "MVquiOFl3pWO"
      },
      "execution_count": 27,
      "outputs": []
    },
    {
      "cell_type": "code",
      "source": [
        "def plot(Reconstructed,OrgImages,Sentimages):\n",
        "    fig = plt.figure(figsize=(10, 10))\n",
        "    for i in range(OrgImages.shape[0]):\n",
        "        im = torch.permute(OrgImages[i],(1,2,0))\n",
        "        RC= torch.permute(Reconstructed[i],(1,2,0))\n",
        "        sent = torch.permute(Sentimages[i][0:3],(1,2,0))\n",
        "        masks = Sentimages[i][3]\n",
        "\n",
        "        fig, ax = plt.subplots(1, 4)\n",
        "\n",
        "        #fig.add_subplot(i+1,4,1)\n",
        "        ax[0].set_title('Sampled')\n",
        "        ax[0].imshow(sent)\n",
        "\n",
        "\n",
        "       \n",
        "       # fig.add_subplot(i+1,4,2)\n",
        "        ax[1].imshow(masks,cmap='gray')\n",
        "        ax[1].set_title('Mask')\n",
        "\n",
        "        #fig.add_subplot(i+1,4,3)\n",
        "        ax[2].imshow(RC)\n",
        "        ax[2].set_title('ConvCS')\n",
        "\n",
        "        #fig.add_subplot(i+1,4,4)\n",
        "        ax[3].imshow(im)\n",
        "        ax[3].set_title('Original')\n",
        "        plt.show()"
      ],
      "metadata": {
        "id": "yHJzgr3QvJBc"
      },
      "execution_count": 28,
      "outputs": []
    },
    {
      "cell_type": "code",
      "source": [
        "ssimMetric = 0\n",
        "for i in range(len(testdataset2)):\n",
        "  OrgTestImages,clas = testdataset2[i]\n",
        "  test_images,clas =ds2[i]\n",
        "  OrgTestImages = torch.unsqueeze(OrgTestImages,0)\n",
        "  test_images = torch.unsqueeze(test_images,0)\n",
        "  Reconstructed=trypredict(test_images,modelpath)\n",
        "  a= test_images[:,0:3]\n",
        "  # a=torch.tensor(a,dtype=torch.float32)\n",
        "  # print(OrgTestImages.dtype)\n",
        "  ssimMetric = ssimMetric + ssim(Reconstructed,OrgTestImages)\n",
        "  plot(Reconstructed,OrgTestImages,test_images)\n",
        "  save_image(Reconstructed,'/content/Real-ESRGAN/inputs'+'/'+str(i)+'.jpg')\n",
        "ssimMetric = ssimMetric/len(testdataset2)\n",
        "print('SSIM Metric in Test Images are :',ssimMetric )"
      ],
      "metadata": {
        "id": "5zpqSqo669yP",
        "colab": {
          "base_uri": "https://localhost:8080/",
          "height": 189
        },
        "outputId": "13384abf-ffb2-4824-be6a-85a5a7b32067"
      },
      "execution_count": 29,
      "outputs": [
        {
          "output_type": "stream",
          "name": "stderr",
          "text": [
            "Clipping input data to the valid range for imshow with RGB data ([0..1] for floats or [0..255] for integers).\n"
          ]
        },
        {
          "output_type": "display_data",
          "data": {
            "text/plain": [
              "<Figure size 720x720 with 0 Axes>"
            ]
          },
          "metadata": {}
        },
        {
          "output_type": "display_data",
          "data": {
            "image/png": "[encoded data removed]",
            "text/plain": [
              "<Figure size 432x288 with 4 Axes>"
            ]
          },
          "metadata": {
            "needs_background": "light"
          }
        },
        {
          "output_type": "stream",
          "name": "stdout",
          "text": [
            "SSIM Metric in Test Images are : tensor(0.9998)\n"
          ]
        }
      ]
    },
    {
      "cell_type": "code",
      "source": [
        "os.chdir('/content/Real-ESRGAN')"
      ],
      "metadata": {
        "id": "lFKUXA0GziJ8"
      },
      "execution_count": 30,
      "outputs": []
    },
    {
      "cell_type": "markdown",
      "source": [
        "Super Resolution\n"
      ],
      "metadata": {
        "id": "hnrUyqGB17lq"
      }
    },
    {
      "cell_type": "code",
      "source": [
        "!python inference_realesrgan.py -n RealESRGAN_x4plus -i inputs --outscale 2.0"
      ],
      "metadata": {
        "colab": {
          "base_uri": "https://localhost:8080/"
        },
        "id": "W-y7rDunoBSi",
        "outputId": "b79bcf04-5d91-4e9a-d4b4-e2f95cdfd507"
      },
      "execution_count": 34,
      "outputs": [
        {
          "output_type": "stream",
          "name": "stdout",
          "text": [
            "Testing 0 0\n"
          ]
        }
      ]
    },
    {
      "cell_type": "code",
      "source": [
        "def plotim(path):\n",
        "  plt.figure()\n",
        "  im= plt.imread(path)\n",
        "  plt.title(im.shape)\n",
        "  plt.imshow(im)\n"
      ],
      "metadata": {
        "id": "K3uTSHoWqi_b"
      },
      "execution_count": 32,
      "outputs": []
    },
    {
      "cell_type": "code",
      "source": [
        "print(\"you can download the images from path :/content/Real-ESRGAN/results\")\n",
        "print(\"Super resolution, Height and Width scaled 2 times\")\n",
        "for i in os.listdir('/content/Real-ESRGAN/results'):\n",
        "  path = '/content/Real-ESRGAN/results/'+str(i)\n",
        "  plotim(path)"
      ],
      "metadata": {
        "colab": {
          "base_uri": "https://localhost:8080/",
          "height": 316
        },
        "id": "PKwm-AcqnyiH",
        "outputId": "8ada58e3-e3f9-4c00-919e-27b85786be40"
      },
      "execution_count": 33,
      "outputs": [
        {
          "output_type": "stream",
          "name": "stdout",
          "text": [
            "you can download the images from path :/content/Real-ESRGAN/results\n",
            "Super resolution, Height and Width scaled 2 times\n"
          ]
        },
        {
          "output_type": "display_data",
          "data": {
            "image/png": "[encoded data removed]",
            "text/plain": [
              "<Figure size 432x288 with 1 Axes>"
            ]
          },
          "metadata": {
            "needs_background": "light"
          }
        }
      ]
    }
  ]
}